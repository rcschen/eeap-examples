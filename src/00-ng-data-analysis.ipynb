{
 "cells": [
  {
   "cell_type": "markdown",
   "metadata": {},
   "source": [
    "# Data Analysis"
   ]
  },
  {
   "cell_type": "code",
   "execution_count": 1,
   "metadata": {},
   "outputs": [],
   "source": [
    "from __future__ import division, print_function\n",
    "from sklearn.datasets import fetch_20newsgroups\n",
    "import matplotlib.pyplot as plt\n",
    "import collections\n",
    "import nltk\n",
    "import numpy as np\n",
    "import os\n",
    "import logging\n",
    "%matplotlib inline"
   ]
  },
  {
   "cell_type": "code",
   "execution_count": 2,
   "metadata": {},
   "outputs": [],
   "source": [
    "DATA_DIR = \"../data\"\n",
    "\n",
    "VOCAB_FILE = os.path.join(DATA_DIR, \"ng-vocab.tsv\")\n",
    "\n",
    "logging.basicConfig()"
   ]
  },
  {
   "cell_type": "markdown",
   "metadata": {},
   "source": [
    "## Data Loading\n",
    "\n",
    "We make use of built in downloader available in Scikit-Learn to download the 20 newsgroup dataset from [http://people.csail.mit.edu/jrennie/20Newsgroups/20news-bydate.tar.gz](http://people.csail.mit.edu/jrennie/20Newsgroups/20news-bydate.tar.gz) and make it available in an in-memory data structure."
   ]
  },
  {
   "cell_type": "code",
   "execution_count": 3,
   "metadata": {},
   "outputs": [
    {
     "name": "stdout",
     "output_type": "stream",
     "text": [
      "18846\n",
      "18846\n"
     ]
    }
   ],
   "source": [
    "ng_data = fetch_20newsgroups(subset='all',\n",
    "                             data_home=DATA_DIR,\n",
    "                             shuffle=True, \n",
    "                             random_state=42)\n",
    "num_docs = len(ng_data.data)\n",
    "print(len(ng_data.data))\n",
    "print(num_docs)"
   ]
  },
  {
   "cell_type": "code",
   "execution_count": 4,
   "metadata": {},
   "outputs": [
    {
     "name": "stdout",
     "output_type": "stream",
     "text": [
      "{0: 'alt.atheism', 1: 'comp.graphics', 2: 'comp.os.ms-windows.misc', 3: 'comp.sys.ibm.pc.hardware', 4: 'comp.sys.mac.hardware', 5: 'comp.windows.x', 6: 'misc.forsale', 7: 'rec.autos', 8: 'rec.motorcycles', 9: 'rec.sport.baseball', 10: 'rec.sport.hockey', 11: 'sci.crypt', 12: 'sci.electronics', 13: 'sci.med', 14: 'sci.space', 15: 'soc.religion.christian', 16: 'talk.politics.guns', 17: 'talk.politics.mideast', 18: 'talk.politics.misc', 19: 'talk.religion.misc'}\n"
     ]
    }
   ],
   "source": [
    "texts = ng_data.data\n",
    "y = np.array(ng_data.target)\n",
    "id2labels = {x[0]:x[1] for x in enumerate(ng_data.target_names)}\n",
    "print(id2labels)"
   ]
  },
  {
   "cell_type": "markdown",
   "metadata": {},
   "source": [
    "## Vocabulary"
   ]
  },
  {
   "cell_type": "code",
   "execution_count": 5,
   "metadata": {},
   "outputs": [],
   "source": [
    "counter = collections.Counter()\n",
    "for text in ng_data.data:\n",
    "    for sent in nltk.sent_tokenize(text):\n",
    "        sent = sent.encode(\"utf8\").decode(\"ascii\", \"ignore\").lower()\n",
    "        for word in nltk.word_tokenize(sent):\n",
    "            counter[word] += 1\n",
    "\n",
    "fvocab = open(VOCAB_FILE, \"wb\")\n",
    "for word, count in counter.most_common():\n",
    "    wstr = \"{:s}\\t{:d}\\n\".format(word, count)\n",
    "    fvocab.write(wstr.encode('utf8'))\n",
    "fvocab.close()"
   ]
  },
  {
   "cell_type": "code",
   "execution_count": 15,
   "metadata": {},
   "outputs": [
    {
     "name": "stdout",
     "output_type": "stream",
     "text": [
      "46605\n"
     ]
    }
   ],
   "source": [
    "vocab_size = len([w for w, c in counter.most_common() if c >= 5])\n",
    "print(vocab_size)"
   ]
  },
  {
   "cell_type": "markdown",
   "metadata": {},
   "source": [
    "## Compute #-sentences per document"
   ]
  },
  {
   "cell_type": "code",
   "execution_count": 31,
   "metadata": {},
   "outputs": [
    {
     "data": {
      "image/png": "[encoded data removed]",
      "text/plain": [
       "<Figure size 432x288 with 1 Axes>"
      ]
     },
     "metadata": {},
     "output_type": "display_data"
    }
   ],
   "source": [
    "num_sents = np.zeros(num_docs)\n",
    "for i, text in enumerate(ng_data.data):\n",
    "    for sent in nltk.sent_tokenize(text):\n",
    "        num_sents[i] += 1\n",
    "plt.hist(num_sents, bins=10)\n",
    "plt.xlabel(\"#-sentences\")\n",
    "plt.ylabel(\"counts\")\n",
    "plt.show()"
   ]
  },
  {
   "cell_type": "code",
   "execution_count": 17,
   "metadata": {},
   "outputs": [
    {
     "name": "stdout",
     "output_type": "stream",
     "text": [
      "90 percentile, #-sentences: 28\n",
      "91 percentile, #-sentences: 30\n",
      "92 percentile, #-sentences: 32\n",
      "93 percentile, #-sentences: 35\n",
      "94 percentile, #-sentences: 38\n",
      "95 percentile, #-sentences: 43\n",
      "96 percentile, #-sentences: 49\n",
      "97 percentile, #-sentences: 58\n",
      "98 percentile, #-sentences: 75\n",
      "99 percentile, #-sentences: 113\n"
     ]
    }
   ],
   "source": [
    "for i in range(90, 100):\n",
    "    print(\"{:d} percentile, #-sentences: {:.0f}\".format(\n",
    "        i, np.percentile(num_sents, i)))"
   ]
  },
  {
   "cell_type": "markdown",
   "metadata": {},
   "source": [
    "## Compute #-words per sentence"
   ]
  },
  {
   "cell_type": "code",
   "execution_count": 18,
   "metadata": {},
   "outputs": [
    {
     "data": {
      "image/png": "[encoded data removed]",
      "text/plain": [
       "<Figure size 432x288 with 1 Axes>"
      ]
     },
     "metadata": {},
     "output_type": "display_data"
    }
   ],
   "source": [
    "num_words = []\n",
    "for i, text in enumerate(ng_data.data):\n",
    "    for sent in nltk.sent_tokenize(text):\n",
    "        num_words_in_sent = 0\n",
    "        for word in nltk.word_tokenize(sent):\n",
    "            num_words_in_sent += 1\n",
    "        num_words.append(num_words_in_sent)\n",
    "\n",
    "plt.hist(num_words, bins=10)\n",
    "plt.xlabel(\"#-words\")\n",
    "plt.ylabel(\"counts\")\n",
    "plt.show()"
   ]
  },
  {
   "cell_type": "code",
   "execution_count": 19,
   "metadata": {},
   "outputs": [
    {
     "name": "stdout",
     "output_type": "stream",
     "text": [
      "90 percentile, #-sentences: 47\n",
      "91 percentile, #-sentences: 49\n",
      "92 percentile, #-sentences: 52\n",
      "93 percentile, #-sentences: 56\n",
      "94 percentile, #-sentences: 60\n",
      "95 percentile, #-sentences: 64\n",
      "96 percentile, #-sentences: 70\n",
      "97 percentile, #-sentences: 79\n",
      "98 percentile, #-sentences: 92\n",
      "99 percentile, #-sentences: 119\n"
     ]
    }
   ],
   "source": [
    "num_words = np.array(num_words)\n",
    "for i in range(90, 100):\n",
    "    print(\"{:d} percentile, #-sentences: {:.0f}\".format(\n",
    "        i, np.percentile(num_words, i)))"
   ]
  },
  {
   "cell_type": "code",
   "execution_count": null,
   "metadata": {
    "collapsed": true
   },
   "outputs": [],
   "source": []
  }
 ],
 "metadata": {
  "kernelspec": {
   "display_name": "Python 3",
   "language": "python",
   "name": "python3"
  },
  "language_info": {
   "codemirror_mode": {
    "name": "ipython",
    "version": 3
   },
   "file_extension": ".py",
   "mimetype": "text/x-python",
   "name": "python",
   "nbconvert_exporter": "python",
   "pygments_lexer": "ipython3",
   "version": "3.5.2"
  }
 },
 "nbformat": 4,
 "nbformat_minor": 2
}
