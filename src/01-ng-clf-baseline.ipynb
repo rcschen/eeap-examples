{
 "cells": [
  {
   "cell_type": "markdown",
   "metadata": {},
   "source": [
    "# Baseline\n",
    "\n",
    "Attempt to run the classification task using \"traditional\" pipeline."
   ]
  },
  {
   "cell_type": "code",
   "execution_count": 2,
   "metadata": {},
   "outputs": [],
   "source": [
    "from __future__ import division, print_function\n",
    "from sklearn.datasets import fetch_20newsgroups\n",
    "from sklearn.feature_extraction.text import CountVectorizer, TfidfTransformer\n",
    "from sklearn.linear_model import SGDClassifier\n",
    "from sklearn.metrics import accuracy_score, confusion_matrix\n",
    "from sklearn.model_selection import train_test_split\n",
    "from sklearn.naive_bayes import MultinomialNB\n",
    "import numpy as np\n",
    "import logging\n",
    "%matplotlib inline"
   ]
  },
  {
   "cell_type": "code",
   "execution_count": 17,
   "metadata": {},
   "outputs": [],
   "source": [
    "DATA_DIR = \"../data\"\n",
    "\n",
    "VOCAB_SIZE = 40000\n",
    "NUM_CLASSES = 20\n",
    "\n",
    "logging.basicConfig()"
   ]
  },
  {
   "cell_type": "markdown",
   "metadata": {},
   "source": [
    "## Data Generation"
   ]
  },
  {
   "cell_type": "code",
   "execution_count": 18,
   "metadata": {},
   "outputs": [
    {
     "name": "stdout",
     "output_type": "stream",
     "text": [
      "18846\n"
     ]
    }
   ],
   "source": [
    "ng_data = fetch_20newsgroups(subset='all',\n",
    "                             data_home=DATA_DIR,\n",
    "                             shuffle=True, \n",
    "                             random_state=42)\n",
    "num_docs = len(ng_data.data)\n",
    "print(num_docs)"
   ]
  },
  {
   "cell_type": "code",
   "execution_count": 19,
   "metadata": {},
   "outputs": [
    {
     "name": "stdout",
     "output_type": "stream",
     "text": [
      "  (0, 29802)\t0.0229335667118623\n",
      "  (0, 29359)\t0.07229351306358578\n",
      "  (0, 29231)\t0.023420284027698857\n",
      "  (0, 29089)\t0.04100598982152166\n",
      "  (0, 28840)\t0.0715131532669709\n",
      "  (0, 28824)\t0.027997641243580357\n",
      "  (0, 28386)\t0.040641656982876036\n",
      "  (0, 26981)\t0.04352831896562306\n",
      "  (0, 26920)\t0.08217024456107144\n",
      "  (0, 26732)\t0.05426803993938286\n",
      "  (0, 26729)\t0.04155072621954815\n",
      "  (0, 26674)\t0.02855770615528225\n",
      "  (0, 26613)\t0.15827546781424923\n",
      "  (0, 26598)\t0.07190066656091562\n",
      "  (0, 25920)\t0.047020362381520096\n",
      "  (0, 25679)\t0.014804828580768283\n",
      "  (0, 25379)\t0.08166688190726255\n",
      "  (0, 24905)\t0.03205952306046901\n",
      "  (0, 24516)\t0.04434883441927549\n",
      "  (0, 24393)\t0.0781067894289065\n",
      "  (0, 24382)\t0.039721644015765\n",
      "  (0, 23951)\t0.040964551928748004\n",
      "  (0, 23909)\t0.14099793385384446\n",
      "  (0, 23361)\t0.07291696638547596\n",
      "  (0, 22502)\t0.1161938725019107\n",
      "  :\t:\n",
      "  (0, 10248)\t0.05369216248809362\n",
      "  (0, 9935)\t0.0419653895304571\n",
      "  (0, 9103)\t0.1020476893513173\n",
      "  (0, 8887)\t0.12257153973018296\n",
      "  (0, 8885)\t0.17393588261421533\n",
      "  (0, 7716)\t0.06152523025839748\n",
      "  (0, 7312)\t0.08616748536436276\n",
      "  (0, 6810)\t0.13293963218595686\n",
      "  (0, 5983)\t0.07844977377029011\n",
      "  (0, 5300)\t0.10749179168597334\n",
      "  (0, 4978)\t0.15891415277589738\n",
      "  (0, 4830)\t0.04772194281052342\n",
      "  (0, 4635)\t0.0789198078065\n",
      "  (0, 4524)\t0.11949747452802145\n",
      "  (0, 3690)\t0.07317117680701644\n",
      "  (0, 3517)\t0.059479343452134896\n",
      "  (0, 3510)\t0.029890801724907847\n",
      "  (0, 3384)\t0.12542971753326915\n",
      "  (0, 3367)\t0.017520887805781253\n",
      "  (0, 3329)\t0.027989983243367832\n",
      "  (0, 3229)\t0.1161971416863151\n",
      "  (0, 3195)\t0.036634373656743234\n",
      "  (0, 2710)\t0.05085418030199217\n",
      "  (0, 2519)\t0.058675250271937596\n",
      "  (0, 245)\t0.051952025926013896\n",
      "(18846, 30000) (18846,)\n"
     ]
    }
   ],
   "source": [
    "cvec = CountVectorizer(max_features=VOCAB_SIZE)\n",
    "tfidf = TfidfTransformer()\n",
    "Xc = cvec.fit_transform(ng_data.data)\n",
    "X = tfidf.fit_transform(Xc)\n",
    "print(X[0,:])\n",
    "y = np.array(ng_data.target)\n",
    "print(X.shape, y.shape)"
   ]
  },
  {
   "cell_type": "code",
   "execution_count": 5,
   "metadata": {},
   "outputs": [
    {
     "name": "stdout",
     "output_type": "stream",
     "text": [
      "(13192, 40000) (13192,) (5654, 40000) (5654,)\n"
     ]
    }
   ],
   "source": [
    "Xtrain, Xtest, ytrain, ytest = train_test_split(X, y, train_size=0.7)\n",
    "print(Xtrain.shape, ytrain.shape, Xtest.shape, ytest.shape)"
   ]
  },
  {
   "cell_type": "markdown",
   "metadata": {},
   "source": [
    "## Naive Bayes Classifier"
   ]
  },
  {
   "cell_type": "code",
   "execution_count": 6,
   "metadata": {},
   "outputs": [
    {
     "name": "stdout",
     "output_type": "stream",
     "text": [
      "accuracy: 0.863\n"
     ]
    }
   ],
   "source": [
    "clf = MultinomialNB()\n",
    "clf.fit(Xtrain, ytrain)\n",
    "ytest_ = clf.predict(Xtest)\n",
    "print(\"accuracy: {:.3f}\".format(accuracy_score(ytest, ytest_)))"
   ]
  },
  {
   "cell_type": "markdown",
   "metadata": {},
   "source": [
    "## Support Vector Machine Classifier"
   ]
  },
  {
   "cell_type": "code",
   "execution_count": 7,
   "metadata": {},
   "outputs": [
    {
     "name": "stdout",
     "output_type": "stream",
     "text": [
      "accuracy: 0.918\n"
     ]
    }
   ],
   "source": [
    "clf = SGDClassifier()\n",
    "clf.fit(Xtrain, ytrain)\n",
    "ytest_ = clf.predict(Xtest)\n",
    "print(\"accuracy: {:.3f}\".format(accuracy_score(ytest, ytest_)))"
   ]
  },
  {
   "cell_type": "code",
   "execution_count": 24,
   "metadata": {},
   "outputs": [
    {
     "name": "stdout",
     "output_type": "stream",
     "text": [
      "(第i句話, 在feature_name裡的第j個字)     在第i句話裡出現n次\n",
      "  (0, 1)\t2\n",
      "  (0, 2)\t1\n",
      "  (0, 7)\t1\n",
      "  (0, 4)\t1\n",
      "  (0, 9)\t1\n",
      "  (1, 3)\t1\n",
      "  (1, 6)\t3\n",
      "  (1, 1)\t1\n",
      "  (1, 7)\t1\n",
      "  (1, 4)\t1\n",
      "  (1, 9)\t1\n",
      "  (2, 5)\t1\n",
      "  (2, 8)\t1\n",
      "  (2, 0)\t1\n",
      "  (2, 7)\t1\n",
      "  (3, 1)\t1\n",
      "  (3, 2)\t1\n",
      "  (3, 7)\t1\n",
      "  (3, 4)\t1\n",
      "  (3, 9)\t1\n",
      "------------\n",
      "(4, 10)\n",
      "['and', 'document', 'first', 'gg', 'is', 'one', 'second', 'the', 'third', 'this']\n"
     ]
    }
   ],
   "source": [
    "from sklearn.feature_extraction.text import TfidfTransformer \n",
    "from sklearn.feature_extraction.text import CountVectorizer \n",
    "corpus = ['This is the first document document.',\n",
    "          'This is the second second second document. gg',\n",
    "          'And the third one.',\n",
    "          'Is this the first document?']\n",
    "vectorizer=CountVectorizer(max_features=20)\n",
    "print('(第i句話, 在feature_name裡的第j個字)     在第i句話裡出現n次')\n",
    "print(vectorizer.fit_transform(corpus))\n",
    "print('------------')\n",
    "transformer = TfidfTransformer()\n",
    "tfidf = transformer.fit_transform(vectorizer.fit_transform(corpus)) \n",
    "feature_name = vectorizer.get_feature_names()\n",
    "print (tfidf.shape)\n",
    "print (feature_name)\n"
   ]
  },
  {
   "cell_type": "code",
   "execution_count": null,
   "metadata": {},
   "outputs": [],
   "source": []
  }
 ],
 "metadata": {
  "kernelspec": {
   "display_name": "Python 3",
   "language": "python",
   "name": "python3"
  },
  "language_info": {
   "codemirror_mode": {
    "name": "ipython",
    "version": 3
   },
   "file_extension": ".py",
   "mimetype": "text/x-python",
   "name": "python",
   "nbconvert_exporter": "python",
   "pygments_lexer": "ipython3",
   "version": "3.5.2"
  }
 },
 "nbformat": 4,
 "nbformat_minor": 2
}
