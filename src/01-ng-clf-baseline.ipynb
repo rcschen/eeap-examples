{
 "cells": [
  {
   "cell_type": "markdown",
   "metadata": {},
   "source": [
    "# Baseline\n",
    "\n",
    "Attempt to run the classification task using \"traditional\" pipeline."
   ]
  },
  {
   "cell_type": "code",
   "execution_count": 1,
   "metadata": {},
   "outputs": [],
   "source": [
    "from __future__ import division, print_function\n",
    "from sklearn.datasets import fetch_20newsgroups\n",
    "from sklearn.feature_extraction.text import CountVectorizer, TfidfTransformer\n",
    "from sklearn.linear_model import SGDClassifier\n",
    "from sklearn.metrics import accuracy_score, confusion_matrix\n",
    "from sklearn.model_selection import train_test_split\n",
    "from sklearn.naive_bayes import MultinomialNB\n",
    "import numpy as np\n",
    "import logging\n",
    "%matplotlib inline"
   ]
  },
  {
   "cell_type": "code",
   "execution_count": 2,
   "metadata": {},
   "outputs": [],
   "source": [
    "DATA_DIR = \"../data\"\n",
    "\n",
    "VOCAB_SIZE = 40000\n",
    "NUM_CLASSES = 20\n",
    "\n",
    "logging.basicConfig()"
   ]
  },
  {
   "cell_type": "markdown",
   "metadata": {},
   "source": [
    "## Data Generation"
   ]
  },
  {
   "cell_type": "code",
   "execution_count": 3,
   "metadata": {},
   "outputs": [
    {
     "name": "stdout",
     "output_type": "stream",
     "text": [
      "18846\n"
     ]
    }
   ],
   "source": [
    "ng_data = fetch_20newsgroups(subset='all',\n",
    "                             data_home=DATA_DIR,\n",
    "                             shuffle=True, \n",
    "                             random_state=42)\n",
    "num_docs = len(ng_data.data)\n",
    "print(num_docs)"
   ]
  },
  {
   "cell_type": "code",
   "execution_count": 25,
   "metadata": {},
   "outputs": [
    {
     "name": "stdout",
     "output_type": "stream",
     "text": [
      "<class 'scipy.sparse.csr.csr_matrix'>\n",
      "(18846, 40000) (18846,)\n"
     ]
    }
   ],
   "source": [
    "cvec = CountVectorizer(max_features=VOCAB_SIZE)\n",
    "tfidf = TfidfTransformer()\n",
    "Xc = cvec.fit_transform(ng_data.data)\n",
    "X = tfidf.fit_transform(Xc)\n",
    "print(X[0,:])\n",
    "y = np.array(ng_data.target)\n",
    "print(X.shape, y.shape)"
   ]
  },
  {
   "cell_type": "code",
   "execution_count": 5,
   "metadata": {},
   "outputs": [
    {
     "name": "stdout",
     "output_type": "stream",
     "text": [
      "(13192, 40000) (13192,) (5654, 40000) (5654,)\n"
     ]
    }
   ],
   "source": [
    "Xtrain, Xtest, ytrain, ytest = train_test_split(X, y, train_size=0.7)\n",
    "print(Xtrain.shape, ytrain.shape, Xtest.shape, ytest.shape)"
   ]
  },
  {
   "cell_type": "markdown",
   "metadata": {},
   "source": [
    "## Naive Bayes Classifier"
   ]
  },
  {
   "cell_type": "code",
   "execution_count": 6,
   "metadata": {},
   "outputs": [
    {
     "name": "stdout",
     "output_type": "stream",
     "text": [
      "accuracy: 0.863\n"
     ]
    }
   ],
   "source": [
    "clf = MultinomialNB()\n",
    "clf.fit(Xtrain, ytrain)\n",
    "ytest_ = clf.predict(Xtest)\n",
    "print(\"accuracy: {:.3f}\".format(accuracy_score(ytest, ytest_)))"
   ]
  },
  {
   "cell_type": "markdown",
   "metadata": {},
   "source": [
    "## Support Vector Machine Classifier"
   ]
  },
  {
   "cell_type": "code",
   "execution_count": 7,
   "metadata": {},
   "outputs": [
    {
     "name": "stdout",
     "output_type": "stream",
     "text": [
      "accuracy: 0.918\n"
     ]
    }
   ],
   "source": [
    "clf = SGDClassifier()\n",
    "clf.fit(Xtrain, ytrain)\n",
    "ytest_ = clf.predict(Xtest)\n",
    "print(\"accuracy: {:.3f}\".format(accuracy_score(ytest, ytest_)))"
   ]
  },
  {
   "cell_type": "code",
   "execution_count": 30,
   "metadata": {},
   "outputs": [
    {
     "name": "stdout",
     "output_type": "stream",
     "text": [
      "  (0, 8)\t0.4387767428592343\n",
      "  (0, 6)\t0.35872873824808993\n",
      "  (0, 3)\t0.4387767428592343\n",
      "  (0, 2)\t0.5419765697264572\n",
      "  (0, 1)\t0.4387767428592343\n",
      "  (1, 8)\t0.2723014675233404\n",
      "  (1, 6)\t0.22262429232510395\n",
      "  (1, 5)\t0.8532257361452786\n",
      "  (1, 3)\t0.2723014675233404\n",
      "  (1, 1)\t0.2723014675233404\n",
      "  (2, 7)\t0.5528053199908667\n",
      "  (2, 6)\t0.2884767487500274\n",
      "  (2, 4)\t0.5528053199908667\n",
      "  (2, 0)\t0.5528053199908667\n",
      "  (3, 8)\t0.4387767428592343\n",
      "  (3, 6)\t0.35872873824808993\n",
      "  (3, 3)\t0.4387767428592343\n",
      "  (3, 2)\t0.5419765697264572\n",
      "  (3, 1)\t0.4387767428592343\n",
      "['and', 'document', 'first', 'is', 'one', 'second', 'the', 'third', 'this']\n"
     ]
    }
   ],
   "source": [
    "from sklearn.feature_extraction.text import TfidfTransformer \n",
    "from sklearn.feature_extraction.text import CountVectorizer \n",
    "corpus = ['This is the first document.',\n",
    "          'This is the second second document.',\n",
    "          'And the third one.',\n",
    "          'Is this the first document?']\n",
    "vectorizer=CountVectorizer(max_features=50)\n",
    " \n",
    " \n",
    "transformer = TfidfTransformer()\n",
    "tfidf = transformer.fit_transform(vectorizer.fit_transform(corpus)) \n",
    "feature_name = vectorizer.get_feature_names()\n",
    "print (tfidf)\n",
    "print (feature_name)\n"
   ]
  },
  {
   "cell_type": "code",
   "execution_count": null,
   "metadata": {},
   "outputs": [],
   "source": []
  }
 ],
 "metadata": {
  "kernelspec": {
   "display_name": "Python 3",
   "language": "python",
   "name": "python3"
  },
  "language_info": {
   "codemirror_mode": {
    "name": "ipython",
    "version": 3
   },
   "file_extension": ".py",
   "mimetype": "text/x-python",
   "name": "python",
   "nbconvert_exporter": "python",
   "pygments_lexer": "ipython3",
   "version": "3.5.2"
  }
 },
 "nbformat": 4,
 "nbformat_minor": 2
}
